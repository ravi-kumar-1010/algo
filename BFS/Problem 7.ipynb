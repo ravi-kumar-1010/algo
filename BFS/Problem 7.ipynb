{
 "cells": [
  {
   "cell_type": "code",
   "execution_count": 1,
   "metadata": {},
   "outputs": [],
   "source": [
    "from collections import deque"
   ]
  },
  {
   "cell_type": "code",
   "execution_count": 2,
   "metadata": {},
   "outputs": [],
   "source": [
    "r = [-1,1,0,0]\n",
    "c = [0,0,1,-1]"
   ]
  },
  {
   "cell_type": "code",
   "execution_count": 3,
   "metadata": {},
   "outputs": [],
   "source": [
    "def isValid(mat,visited,i,j):\n",
    "    return 0<=i<M and 0<=i<N and mat[i][j] == 1 and not visited[i][j]"
   ]
  },
  {
   "cell_type": "code",
   "execution_count": 6,
   "metadata": {},
   "outputs": [],
   "source": [
    "def BFS(mat,i,j,x,y):\n",
    "    q = deque()\n",
    "    visited = [[False for _ in range(N)]for _ in range(M)]\n",
    "    visited[i][j] = True\n",
    "    q.append((i,j,0))\n",
    "    min_dist = float('inf')\n",
    "    while q:\n",
    "        (i,j,dist) = q.popleft()\n",
    "        if i == x and j == y:\n",
    "            min_dist = dist\n",
    "            break\n",
    "            \n",
    "        for k in range(4):\n",
    "            if isValid(mat,visited,i+r[k],j+c[k]):\n",
    "                visited[i+r[k]][j+c[k]] = True\n",
    "                q.append((i+r[k],j+c[k],dist+1))\n",
    "    if min_dist is not float('inf'):\n",
    "        print(min_dist)\n",
    "    else:\n",
    "        print(\"No path available\")\n",
    "            "
   ]
  },
  {
   "cell_type": "code",
   "execution_count": 7,
   "metadata": {},
   "outputs": [
    {
     "name": "stdout",
     "output_type": "stream",
     "text": [
      "12\n"
     ]
    }
   ],
   "source": [
    "if __name__ == '__main__':\n",
    "\n",
    "\t# input maze\n",
    "\tmat = [\n",
    "\t\t[1, 1, 1, 1, 1, 0, 0, 1, 1, 1],\n",
    "\t\t[0, 1, 1, 1, 1, 1, 0, 1, 0, 1],\n",
    "\t\t[0, 0, 1, 0, 1, 1, 1, 0, 0, 1],\n",
    "\t\t[1, 0, 1, 1, 1, 0, 1, 1, 0, 1],\n",
    "\t\t[0, 0, 0, 1, 0, 0, 0, 1, 0, 1],\n",
    "\t\t[1, 0, 1, 1, 1, 0, 0, 1, 1, 0],\n",
    "\t\t[0, 0, 0, 0, 1, 0, 0, 1, 0, 1],\n",
    "\t\t[0, 1, 1, 1, 1, 1, 1, 1, 0, 0],\n",
    "\t\t[1, 1, 1, 1, 1, 0, 0, 1, 1, 1],\n",
    "\t\t[0, 0, 1, 0, 0, 1, 1, 0, 0, 1]\n",
    "\t]\n",
    "\n",
    "\t# M x N matrix\n",
    "\tM = N = 10\n",
    "\n",
    "\t# Find shortest path from source (0, 0) to destination (7, 5)\n",
    "\tBFS(mat, 0, 0, 7, 5)\n"
   ]
  },
  {
   "cell_type": "code",
   "execution_count": null,
   "metadata": {},
   "outputs": [],
   "source": []
  }
 ],
 "metadata": {
  "kernelspec": {
   "display_name": "Python 3",
   "language": "python",
   "name": "python3"
  },
  "language_info": {
   "codemirror_mode": {
    "name": "ipython",
    "version": 3
   },
   "file_extension": ".py",
   "mimetype": "text/x-python",
   "name": "python",
   "nbconvert_exporter": "python",
   "pygments_lexer": "ipython3",
   "version": "3.8.3"
  }
 },
 "nbformat": 4,
 "nbformat_minor": 4
}
