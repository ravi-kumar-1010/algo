{
 "cells": [
  {
   "cell_type": "code",
   "execution_count": 1,
   "metadata": {},
   "outputs": [],
   "source": [
    "key = (10,20)\n"
   ]
  },
  {
   "cell_type": "code",
   "execution_count": 2,
   "metadata": {},
   "outputs": [
    {
     "name": "stdout",
     "output_type": "stream",
     "text": [
      "True\n"
     ]
    }
   ],
   "source": [
    "print (key == (10,20))"
   ]
  },
  {
   "cell_type": "code",
   "execution_count": 5,
   "metadata": {},
   "outputs": [
    {
     "name": "stdout",
     "output_type": "stream",
     "text": [
      "Shortest path is: (0, 0) (0, 4) (5, 4) (5, 2) (5, 7) (5, 9) (9, 9) \n",
      "Shortest path length is 6\n"
     ]
    }
   ],
   "source": [
    "from collections import deque\n",
    "\n",
    "\n",
    "# queue node used in BFS\n",
    "class Node:\n",
    "    # (x, y) represents coordinates of a cell in matrix\n",
    "    # maintain a parent node for printing path\n",
    "    def __init__(self, x, y, parent):\n",
    "        self.x = x\n",
    "        self.y = y\n",
    "        self.parent = parent\n",
    "\n",
    "    def __repr__(self):\n",
    "        return str((self.x, self.y))\n",
    "\n",
    "\n",
    "# Below lists details all 4 possible movements from a cell\n",
    "row = [-1, 0, 0, 1]\n",
    "col = [0, -1, 1, 0]\n",
    "\n",
    "\n",
    "# The function returns false if pt is not a valid position\n",
    "def isValid(x, y):\n",
    "    return (0 <= x < N) and (0 <= y < N)\n",
    "\n",
    "\n",
    "# Find shortest route in the matrix from source cell (x, y) to\n",
    "# destination cell (N - 1, N - 1)\n",
    "def findPath(matrix, x, y):\n",
    "    # create a queue and enqueue first node\n",
    "    q = deque()\n",
    "    src = Node(x, y, None)\n",
    "    q.append(src)\n",
    "\n",
    "    # set to check if matrix cell is visited before or not\n",
    "    visited = set()\n",
    "\n",
    "    key = (src.x, src.y)\n",
    "    visited.add(key)\n",
    "    # loop till queue is empty\n",
    "    while q:\n",
    "\n",
    "        # pop front node from queue and process it\n",
    "        curr = q.popleft()\n",
    "        i = curr.x\n",
    "        j = curr.y\n",
    "\n",
    "        # return if destination is found\n",
    "        if i == N - 1 and j == N - 1:\n",
    "            return curr\n",
    "\n",
    "        # value of current cell\n",
    "        n = matrix[i][j]\n",
    "\n",
    "        # check all 4 possible movements from current cell\n",
    "        # and recur for each valid movement\n",
    "        for k in range(4):\n",
    "            # get next position coordinates using value of current cell\n",
    "            x = i + row[k] * n\n",
    "            y = j + col[k] * n\n",
    "\n",
    "            # check if it is possible to go to next position\n",
    "            # from current position\n",
    "            if isValid(x, y) and ((x,y) not in visited):\n",
    "                # construct next cell node\n",
    "                next = Node(x, y, curr)\n",
    "                key = (next.x, next.y)\n",
    "\n",
    "                # if it not visited yet\n",
    "                #if key not in visited:\n",
    "                    # push it into the queue and mark it as visited\n",
    "                q.append(next)\n",
    "                visited.add(key)\n",
    "\n",
    "    # return None if path is not possible\n",
    "    return None\n",
    "\n",
    "\n",
    "# Utility function to print path from source to destination\n",
    "def printPath(node):\n",
    "    if node is None:\n",
    "        return 0\n",
    "\n",
    "    length = printPath(node.parent)\n",
    "    print(node, end=' ')\n",
    "    return length + 1\n",
    "\n",
    "\n",
    "if __name__ == '__main__':\n",
    "\n",
    "    matrix = [\n",
    "        [4, 4, 6, 5, 5, 1, 1, 1, 7, 4],\n",
    "        [3, 6, 2, 4, 6, 5, 7, 2, 6, 6],\n",
    "        [1, 3, 6, 1, 1, 1, 7, 1, 4, 5],\n",
    "        [7, 5, 6, 3, 1, 3, 3, 1, 1, 7],\n",
    "        [3, 4, 6, 4, 7, 2, 6, 5, 4, 4],\n",
    "        [3, 2, 5, 1, 2, 5, 1, 2, 3, 4],\n",
    "        [4, 2, 2, 2, 5, 2, 3, 7, 7, 3],\n",
    "        [7, 2, 4, 3, 5, 2, 2, 3, 6, 3],\n",
    "        [5, 1, 4, 2, 6, 4, 6, 7, 3, 7],\n",
    "        [1, 4, 1, 7, 5, 3, 6, 5, 3, 4]\n",
    "    ]\n",
    "\n",
    "    N = len(matrix)\n",
    "\n",
    "    # Find a route in the matrix from source cell (0, 0) to\n",
    "    # destination cell (N - 1, N - 1)\n",
    "    node = findPath(matrix, 0, 0)\n",
    "\n",
    "    if node:\n",
    "        print(\"Shortest path is: \", end='')\n",
    "        length = printPath(node) - 1\n",
    "        print(\"\\nShortest path length is\", length)\n",
    "    else:\n",
    "        print(\"Destination not found\")\n"
   ]
  },
  {
   "cell_type": "code",
   "execution_count": null,
   "metadata": {},
   "outputs": [],
   "source": []
  }
 ],
 "metadata": {
  "kernelspec": {
   "display_name": "Python 3",
   "language": "python",
   "name": "python3"
  },
  "language_info": {
   "codemirror_mode": {
    "name": "ipython",
    "version": 3
   },
   "file_extension": ".py",
   "mimetype": "text/x-python",
   "name": "python",
   "nbconvert_exporter": "python",
   "pygments_lexer": "ipython3",
   "version": "3.8.3"
  }
 },
 "nbformat": 4,
 "nbformat_minor": 4
}
