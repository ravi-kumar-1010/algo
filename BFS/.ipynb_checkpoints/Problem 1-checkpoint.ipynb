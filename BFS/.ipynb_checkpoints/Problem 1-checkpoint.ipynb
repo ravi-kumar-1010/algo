{
 "cells": [
  {
   "cell_type": "markdown",
   "metadata": {},
   "source": [
    "# find-minimum-passes-required-convert-negative-values-matrix"
   ]
  },
  {
   "cell_type": "code",
   "execution_count": 41,
   "metadata": {},
   "outputs": [],
   "source": [
    "from collections import deque"
   ]
  },
  {
   "cell_type": "code",
   "execution_count": 42,
   "metadata": {},
   "outputs": [],
   "source": [
    "def isValid(i,j):\n",
    "    return (0<=i<M) and (0<=j<N)"
   ]
  },
  {
   "cell_type": "code",
   "execution_count": 43,
   "metadata": {},
   "outputs": [],
   "source": [
    "row = [-1, 0, 0, 1]\n",
    "col = [0, -1, 1, 0]"
   ]
  },
  {
   "cell_type": "code",
   "execution_count": 44,
   "metadata": {},
   "outputs": [],
   "source": [
    "def hasNegative(mat):\n",
    "    for i in range(M):\n",
    "        for j in range(N):\n",
    "            if mat[i][j]<0:\n",
    "                return True\n",
    "    return False\n"
   ]
  },
  {
   "cell_type": "code",
   "execution_count": 45,
   "metadata": {},
   "outputs": [],
   "source": [
    "def convert(mat):\n",
    "    Q = deque()\n",
    "    for i in range(M):\n",
    "        for j in range(N):\n",
    "            if mat[i][j]>0:\n",
    "                Q.append((i,j))\n",
    "    passes = 0\n",
    "    while Q:\n",
    "        q = Q.copy()\n",
    "        Q.clear()\n",
    "        while q:\n",
    "            x,y = q.popleft()\n",
    "            for k in range(4):\n",
    "                if isValid(x+row[k],y+col[k]) and mat[x+row[k]][y+col[k]]<0:\n",
    "                    mat[x+row[k]][y+col[k]] = -1 * mat[x+row[k]][y+col[k]]\n",
    "                    Q.append((x+row[k],y+col[k]))\n",
    "        passes += 1\n",
    "    return float('inf') if hasNegative(mat) else (passes - 1)"
   ]
  },
  {
   "cell_type": "code",
   "execution_count": 46,
   "metadata": {},
   "outputs": [
    {
     "name": "stdout",
     "output_type": "stream",
     "text": [
      "3\n"
     ]
    }
   ],
   "source": [
    "if __name__ == '__main__':\n",
    "    mat = [\n",
    "\t\t[-1, -9, 0, -1, 0],\n",
    "\t\t[-8, -3, -2, 9, -7],\n",
    "\t\t[2, 0, 0, -6, 0],\n",
    "\t\t[0, -7, -3, 5, -4]\n",
    "\t]\n",
    "    (M,N) = (len(mat),len(mat[0]))\n",
    "    passes = convert(mat)\n",
    "    if passes != float('inf'):\n",
    "        print(passes)\n",
    "    else: \n",
    "        print(\"Invalid Input\")"
   ]
  },
  {
   "cell_type": "code",
   "execution_count": null,
   "metadata": {},
   "outputs": [],
   "source": []
  },
  {
   "cell_type": "code",
   "execution_count": null,
   "metadata": {},
   "outputs": [],
   "source": []
  }
 ],
 "metadata": {
  "kernelspec": {
   "display_name": "Python 3",
   "language": "python",
   "name": "python3"
  },
  "language_info": {
   "codemirror_mode": {
    "name": "ipython",
    "version": 3
   },
   "file_extension": ".py",
   "mimetype": "text/x-python",
   "name": "python",
   "nbconvert_exporter": "python",
   "pygments_lexer": "ipython3",
   "version": "3.8.3"
  }
 },
 "nbformat": 4,
 "nbformat_minor": 4
}
