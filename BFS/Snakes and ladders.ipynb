{
 "cells": [
  {
   "cell_type": "code",
   "execution_count": 60,
   "metadata": {},
   "outputs": [],
   "source": [
    "from collections import deque"
   ]
  },
  {
   "cell_type": "code",
   "execution_count": 61,
   "metadata": {},
   "outputs": [],
   "source": [
    "class Graph:\n",
    "\t# Constructor\n",
    "\tdef __init__(self, edges, N):\n",
    "\n",
    "\t\t# A List of Lists to represent an adjacency list\n",
    "\t\tself.adjList = [[] for _ in range(N)]\n",
    "\n",
    "\t\t# add edges to the graph\n",
    "\t\tfor (src, dest) in edges:\n",
    "\t\t\t# Please note that directed is directed\n",
    "\t\t\tself.adjList[src].append(dest)\n",
    "\n",
    "        "
   ]
  },
  {
   "cell_type": "code",
   "execution_count": 62,
   "metadata": {},
   "outputs": [],
   "source": [
    "def BFS(g,source,N):\n",
    "    q = deque()\n",
    "    discovered = [False]*(N+1)\n",
    "    q.append((source,0))\n",
    "    discovered[source] = True\n",
    "    while q:\n",
    "        (s,dist) = q.popleft()\n",
    "        if s == N:\n",
    "            print(dist)\n",
    "            break\n",
    "        for i in g.adjList[s]:\n",
    "            if not discovered[i]:\n",
    "                q.append((i,dist +1)) \n",
    "                discovered[i] = True"
   ]
  },
  {
   "cell_type": "code",
   "execution_count": 63,
   "metadata": {},
   "outputs": [],
   "source": [
    "def findSolutionx(ladder, snake):\n",
    "    edges = []\n",
    "    N = 100\n",
    "    for i in range(N):\n",
    "        j = 1\n",
    "        while j<=6 and i+j<=N:\n",
    "            src = i\n",
    "            _ladder = ladder.get(i+j) if (ladder.get(i+j)) else 0\n",
    "            _snake = snake.get(i+j) if (snake.get(i+j)) else 0\n",
    "            if _ladder or _snake:\n",
    "                dest = _ladder + _snake\n",
    "            else:\n",
    "                dest = i+j\n",
    "            j = j+1\n",
    "            edges.append((src,dest))\n",
    "    g = Graph(edges,N)\n",
    "    BFS(g,0,N)"
   ]
  },
  {
   "cell_type": "code",
   "execution_count": 64,
   "metadata": {},
   "outputs": [
    {
     "name": "stdout",
     "output_type": "stream",
     "text": [
      "7\n"
     ]
    }
   ],
   "source": [
    "if __name__ == '__main__':\n",
    "\n",
    "\t# snakes and ladders are represented using a dict.\n",
    "\tladder = {}\n",
    "\tsnake = {}\n",
    "\n",
    "\t# insert ladders into the dictionary\n",
    "\tladder[1] = 38\n",
    "\tladder[4] = 14\n",
    "\tladder[9] = 31\n",
    "\tladder[21] = 42\n",
    "\tladder[28] = 84\n",
    "\tladder[51] = 67\n",
    "\tladder[72] = 91\n",
    "\tladder[80] = 99\n",
    "\n",
    "\t# insert snakes into the dictionary\n",
    "\tsnake[17] = 7\n",
    "\tsnake[54] = 34\n",
    "\tsnake[62] = 19\n",
    "\tsnake[64] = 60\n",
    "\tsnake[87] = 36\n",
    "\tsnake[93] = 73\n",
    "\tsnake[95] = 75\n",
    "\tsnake[98] = 79\n",
    "\n",
    "\tfindSolutionx(ladder, snake)"
   ]
  },
  {
   "cell_type": "code",
   "execution_count": null,
   "metadata": {},
   "outputs": [],
   "source": []
  },
  {
   "cell_type": "code",
   "execution_count": null,
   "metadata": {},
   "outputs": [],
   "source": []
  },
  {
   "cell_type": "code",
   "execution_count": null,
   "metadata": {},
   "outputs": [],
   "source": []
  }
 ],
 "metadata": {
  "kernelspec": {
   "display_name": "Python 3",
   "language": "python",
   "name": "python3"
  },
  "language_info": {
   "codemirror_mode": {
    "name": "ipython",
    "version": 3
   },
   "file_extension": ".py",
   "mimetype": "text/x-python",
   "name": "python",
   "nbconvert_exporter": "python",
   "pygments_lexer": "ipython3",
   "version": "3.8.3"
  }
 },
 "nbformat": 4,
 "nbformat_minor": 4
}
