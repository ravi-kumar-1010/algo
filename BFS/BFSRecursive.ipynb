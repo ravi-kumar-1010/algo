{
 "cells": [
  {
   "cell_type": "code",
   "execution_count": 13,
   "metadata": {},
   "outputs": [],
   "source": [
    "from collections import deque"
   ]
  },
  {
   "cell_type": "code",
   "execution_count": 14,
   "metadata": {},
   "outputs": [],
   "source": [
    "class Graph:\n",
    "    def __init__(self,edges,N):\n",
    "        self.adjList = [[] for _ in range(N)]\n",
    "        for (src,dest) in edges:\n",
    "            self.adjList[src].append(dest)\n",
    "            self.adjList[dest].append(src)"
   ]
  },
  {
   "cell_type": "code",
   "execution_count": 15,
   "metadata": {},
   "outputs": [],
   "source": [
    "def recursiveBFS(graph, q, discovered):\n",
    "\n",
    "\tif not q:\n",
    "\t\treturn\n",
    "\n",
    "\t# pop front node from queue and print it\n",
    "\tv = q.popleft()\n",
    "\tprint(v, end=' ')\n",
    "\n",
    "\t# do for every edge (v -> u)\n",
    "\tfor u in graph.adjList[v]:\n",
    "\t\tif not discovered[u]:\n",
    "\t\t\t# mark it discovered and push it into queue\n",
    "\t\t\tdiscovered[u] = True\n",
    "\t\t\tq.append(u)\n",
    "\n",
    "\trecursiveBFS(graph, q, discovered)\n",
    "\n",
    "    "
   ]
  },
  {
   "cell_type": "code",
   "execution_count": 16,
   "metadata": {},
   "outputs": [
    {
     "name": "stdout",
     "output_type": "stream",
     "text": [
      "0 1 2 3 4 5 6 7 8 9 10 11 12 13 14 "
     ]
    }
   ],
   "source": [
    "if __name__ == '__main__':\n",
    "    edges = [(1,2),(1,3),(1,4),(2,5),(2,6),(5,9),(5,10),(4,7),(4,8),(7,11),(7,12)]\n",
    "    N = 15\n",
    "    graph = Graph(edges,N)\n",
    "    q = deque()\n",
    "    discovered = [False]*N\n",
    "    for i in range(N):\n",
    "        if not discovered[i]:\n",
    "            discovered[i] = True\n",
    "            q.append(i)\n",
    "            recursiveBFS(graph,q,discovered)\n",
    "    "
   ]
  },
  {
   "cell_type": "code",
   "execution_count": null,
   "metadata": {},
   "outputs": [],
   "source": []
  }
 ],
 "metadata": {
  "kernelspec": {
   "display_name": "Python 3",
   "language": "python",
   "name": "python3"
  },
  "language_info": {
   "codemirror_mode": {
    "name": "ipython",
    "version": 3
   },
   "file_extension": ".py",
   "mimetype": "text/x-python",
   "name": "python",
   "nbconvert_exporter": "python",
   "pygments_lexer": "ipython3",
   "version": "3.8.3"
  }
 },
 "nbformat": 4,
 "nbformat_minor": 4
}
