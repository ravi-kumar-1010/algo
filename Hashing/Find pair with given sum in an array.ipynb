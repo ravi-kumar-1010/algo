{
 "cells": [
  {
   "cell_type": "code",
   "execution_count": 3,
   "metadata": {},
   "outputs": [
    {
     "name": "stdout",
     "output_type": "stream",
     "text": [
      "Found at  0 and 2\n",
      "{8: 0, 7: 1}\n"
     ]
    }
   ],
   "source": [
    "#to print only one pair\n",
    "def findPair(A,sum):\n",
    "    dict = {}\n",
    "    for i,e in enumerate(A):\n",
    "        if sum-e in dict:\n",
    "            print(\"Found at \",dict.get(sum-e),\"and\",i)\n",
    "            print(dict)\n",
    "            return\n",
    "        dict[e]=i\n",
    "    print(\"Not found\")\n",
    "\n",
    "\n",
    "if __name__ == '__main__':\n",
    " \n",
    "    A = [8, 7, 2, 5, 3, 1]\n",
    "    sum = 10\n",
    " \n",
    "    findPair(A, sum)"
   ]
  },
  {
   "cell_type": "code",
   "execution_count": 4,
   "metadata": {},
   "outputs": [
    {
     "name": "stdout",
     "output_type": "stream",
     "text": [
      "Found at  3 and 4\n",
      "{8: 0, 7: 1, 2: 2, 5: 3}\n",
      "Found at  1 and 5\n",
      "{8: 0, 7: 1, 2: 2, 5: 3, 3: 4}\n",
      "Found at  0 and 6\n",
      "{8: 0, 7: 1, 2: 2, 5: 3, 3: 4, 1: 5}\n",
      "Not found\n"
     ]
    }
   ],
   "source": [
    "#extended to print all pair with given soution\n",
    "def findPair(A,sum):\n",
    "    dict = {}\n",
    "    for i,e in enumerate(A):\n",
    "        if sum-e in dict:\n",
    "            print(\"Found at \",dict.get(sum-e),\"and\",i)\n",
    "            print(dict)\n",
    "        dict[e]=i\n",
    "    print(\"Not found\")\n",
    "\n",
    "\n",
    "if __name__ == '__main__':\n",
    " \n",
    "    A = [8, 7, 2, 5, 3, 1, 0]\n",
    "    sum = 8\n",
    " \n",
    "    findPair(A, sum)"
   ]
  },
  {
   "cell_type": "code",
   "execution_count": null,
   "metadata": {},
   "outputs": [],
   "source": []
  }
 ],
 "metadata": {
  "kernelspec": {
   "display_name": "Python 3",
   "language": "python",
   "name": "python3"
  },
  "language_info": {
   "codemirror_mode": {
    "name": "ipython",
    "version": 3
   },
   "file_extension": ".py",
   "mimetype": "text/x-python",
   "name": "python",
   "nbconvert_exporter": "python",
   "pygments_lexer": "ipython3",
   "version": "3.8.3"
  }
 },
 "nbformat": 4,
 "nbformat_minor": 4
}
