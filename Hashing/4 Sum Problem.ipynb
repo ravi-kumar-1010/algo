{
 "cells": [
  {
   "cell_type": "code",
   "execution_count": 1,
   "metadata": {},
   "outputs": [
    {
     "name": "stdout",
     "output_type": "stream",
     "text": [
      "Quadruplet Exists\n"
     ]
    }
   ],
   "source": [
    "#Naive Approach but still clever\n",
    "def quadTuple(A, n, sum, count):\n",
    " \n",
    "    # if desired sum is reached with 4 elements, return true\n",
    "    if sum == 0 and count == 4:\n",
    "        return True\n",
    " \n",
    "    # return false if sum is not possible with current configuration\n",
    "    if count > 4 or n == 0:\n",
    "        return False\n",
    " \n",
    "    # Recur with\n",
    "    # 1. including current element\n",
    "    # 2. excluding current element\n",
    " \n",
    "    return quadTuple(A, n - 1, sum - A[n - 1], count + 1) or\\\n",
    "           quadTuple(A, n - 1, sum, count)\n",
    " \n",
    " \n",
    "if __name__ == '__main__':\n",
    " \n",
    "    A = [2, 7, 4, 0, 9, 5, 1, 3]\n",
    "    sum = 20\n",
    " \n",
    "    if quadTuple(A, len(A), sum, 0):\n",
    "        print(\"Quadruplet Exists\")\n",
    "    else:\n",
    "        print(\"Quadruplet Don't Exist\")"
   ]
  },
  {
   "cell_type": "code",
   "execution_count": 10,
   "metadata": {},
   "outputs": [
    {
     "name": "stdout",
     "output_type": "stream",
     "text": [
      "Quadruplet Found (4, 0, 7, 9)\n",
      "{9: [(0, 1)], 6: [(0, 2)], 2: [(0, 3)], 11: [(0, 4), (1, 2)], 7: [(0, 5), (1, 3)], 3: [(0, 6)], 5: [(0, 7)], 16: [(1, 4)], 12: [(1, 5)], 8: [(1, 6)], 10: [(1, 7)]}\n"
     ]
    }
   ],
   "source": [
    "# Function to check if Quadruplet exists in a list with given sum\n",
    "def quadTuple(A, n, sum):\n",
    " \n",
    "    # create an empty dict\n",
    "    # key -> sum of a pair of elements in the list\n",
    "    # value -> list storing index of every pair having that sum\n",
    "    dict = {}\n",
    " \n",
    "    # consider each element except last element\n",
    "    for i in range(n - 1):\n",
    " \n",
    "        # start from i'th element till last element\n",
    "        for j in range(i + 1, n):\n",
    " \n",
    "            # calculate remaining sum\n",
    "            val = sum - (A[i] + A[j])\n",
    " \n",
    "            # if remaining sum is found in the dictionary, we have found a Quadruplet\n",
    "            if val in dict:\n",
    " \n",
    "                # check every pair having sum equal to remaining sum\n",
    "                for pair in dict[val]:\n",
    "                    x, y = pair\n",
    " \n",
    "                    # if Quadruplet don't overlap, print it and return True\n",
    "                    if (x != i and x != j) and (y != i and y != j):\n",
    "                        print(\"Quadruplet Found\", (A[i], A[j], A[x], A[y]))\n",
    "                        print(dict)\n",
    "                        return True\n",
    " \n",
    "            # insert current pair into the dictionary\n",
    "            dict.setdefault(A[i] + A[j], []).append((i, j))\n",
    " \n",
    "    # return false if Quadruplet don't exist\n",
    "    return False\n",
    " \n",
    " \n",
    "if __name__ == '__main__':\n",
    " \n",
    "    A = [2, 7, 4, 0, 9, 5, 1, 3]\n",
    "    #   [0, 1, 2, 3, 4, 5, 6, 7] \n",
    "    sum = 20\n",
    " \n",
    "    if not quadTuple(A, len(A), sum):\n",
    "        print(\"Quadruplet Don't Exist\")"
   ]
  },
  {
   "cell_type": "code",
   "execution_count": 11,
   "metadata": {},
   "outputs": [],
   "source": [
    "data = [('a', 1), ('b', 1), ('b', 2)]\n",
    "\n",
    "d1 = {}\n",
    "d2 = {}\n",
    "\n",
    "for key, val in data:\n",
    "    # variant 1)\n",
    "    d1[key] = d1.get(key, []) + [val]\n",
    "    # variant 2)\n",
    "    d2.setdefault(key, []).append(val)"
   ]
  },
  {
   "cell_type": "code",
   "execution_count": 9,
   "metadata": {},
   "outputs": [
    {
     "name": "stdout",
     "output_type": "stream",
     "text": [
      "{'a': [1], 'b': [1, 2]}\n",
      "{'a': [1], 'b': [1, 2]}\n"
     ]
    }
   ],
   "source": [
    "print(d1)\n",
    "print(d2)"
   ]
  },
  {
   "cell_type": "code",
   "execution_count": null,
   "metadata": {},
   "outputs": [],
   "source": []
  }
 ],
 "metadata": {
  "kernelspec": {
   "display_name": "Python 3",
   "language": "python",
   "name": "python3"
  },
  "language_info": {
   "codemirror_mode": {
    "name": "ipython",
    "version": 3
   },
   "file_extension": ".py",
   "mimetype": "text/x-python",
   "name": "python",
   "nbconvert_exporter": "python",
   "pygments_lexer": "ipython3",
   "version": "3.8.3"
  }
 },
 "nbformat": 4,
 "nbformat_minor": 4
}
