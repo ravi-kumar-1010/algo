{
 "cells": [
  {
   "cell_type": "code",
   "execution_count": 2,
   "metadata": {},
   "outputs": [
    {
     "name": "stdout",
     "output_type": "stream",
     "text": [
      "Sublist is (0, 2)\n",
      "Sublist is (1, 3)\n",
      "Sublist is (2, 5)\n",
      "Sublist is (5, 7)\n",
      "Sublist is (0, 9)\n",
      "Sublist is (3, 9)\n",
      "{0: [-1, 2, 9], 3: [0, 3], 7: [1, 5], 4: [4, 7], 8: [6], 2: [8]}\n"
     ]
    }
   ],
   "source": [
    "# Utility function to insert <key, value> into the dict\n",
    "def insert(dict, key, value):\n",
    " \n",
    "    # if the key is seen for the first time, initialize the list\n",
    "    dict.setdefault(key, []).append(value)\n",
    " \n",
    " \n",
    "# Function to print all sub-lists with 0 sum present\n",
    "# in the given list\n",
    "def printallSublists(A):\n",
    " \n",
    "    # create an empty -dict to store ending index of all\n",
    "    # sub-lists having same sum\n",
    "    dict = {}\n",
    " \n",
    "    # insert (0, -1) pair into the dict to handle the case when\n",
    "    # sub-list with 0 sum starts from index 0\n",
    "    insert(dict, 0, -1)\n",
    " \n",
    "    sum = 0\n",
    " \n",
    "    # traverse the given list\n",
    "    for i in range(len(A)):\n",
    " \n",
    "        # sum of elements so far\n",
    "        sum += A[i]\n",
    " \n",
    "        # if sum is seen before, there exists at-least one\n",
    "        # sub-list with 0 sum\n",
    "        if sum in dict:\n",
    " \n",
    "            list = dict.get(sum)\n",
    " \n",
    "            # find all sub-lists with same sum\n",
    "            for value in list:\n",
    "                print(\"Sublist is\", (value + 1, i))\n",
    " \n",
    "        # insert (sum so far, current index) pair into the -dict\n",
    "        insert(dict, sum, i)\n",
    "    print(dict)\n",
    " \n",
    " \n",
    "if __name__ == '__main__':\n",
    " \n",
    "    A = [3, 4, -7, 3, 1, 3, 1, -4, -2, -2]\n",
    " \n",
    "    printallSublists(A)"
   ]
  },
  {
   "cell_type": "code",
   "execution_count": null,
   "metadata": {},
   "outputs": [],
   "source": []
  }
 ],
 "metadata": {
  "kernelspec": {
   "display_name": "Python 3",
   "language": "python",
   "name": "python3"
  },
  "language_info": {
   "codemirror_mode": {
    "name": "ipython",
    "version": 3
   },
   "file_extension": ".py",
   "mimetype": "text/x-python",
   "name": "python",
   "nbconvert_exporter": "python",
   "pygments_lexer": "ipython3",
   "version": "3.8.3"
  }
 },
 "nbformat": 4,
 "nbformat_minor": 4
}
