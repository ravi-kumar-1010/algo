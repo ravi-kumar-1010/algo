{
 "cells": [
  {
   "cell_type": "code",
   "execution_count": 1,
   "metadata": {},
   "outputs": [
    {
     "name": "stdout",
     "output_type": "stream",
     "text": [
      "The number of distinct absolute values are 2\n"
     ]
    }
   ],
   "source": [
    "def distinct(A):\n",
    "    s = set([abs(i) for i in A])\n",
    "    return len(s)\n",
    "if __name__ == '__main__':\n",
    " \n",
    "    input = [-1, -1, 0, 1, 1, 1]\n",
    " \n",
    "    print(\"The number of distinct absolute values are\", distinct(input))\n",
    " "
   ]
  },
  {
   "cell_type": "code",
   "execution_count": null,
   "metadata": {},
   "outputs": [],
   "source": []
  }
 ],
 "metadata": {
  "kernelspec": {
   "display_name": "Python 3",
   "language": "python",
   "name": "python3"
  },
  "language_info": {
   "codemirror_mode": {
    "name": "ipython",
    "version": 3
   },
   "file_extension": ".py",
   "mimetype": "text/x-python",
   "name": "python",
   "nbconvert_exporter": "python",
   "pygments_lexer": "ipython3",
   "version": "3.8.3"
  }
 },
 "nbformat": 4,
 "nbformat_minor": 4
}
