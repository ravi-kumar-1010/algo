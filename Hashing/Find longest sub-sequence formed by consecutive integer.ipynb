{
 "cells": [
  {
   "cell_type": "code",
   "execution_count": 1,
   "metadata": {},
   "outputs": [],
   "source": [
    "def findMaxSub(A):\n",
    "    S = set(A)\n",
    "    maxL = 1\n",
    "    for e in A:\n",
    "        if (e-1) not in S:\n",
    "            l = 1\n",
    "            while (e+l) in S:\n",
    "                l +=1\n",
    "            maxL = max(maxL,l)\n",
    "    return maxL"
   ]
  },
  {
   "cell_type": "code",
   "execution_count": 2,
   "metadata": {},
   "outputs": [
    {
     "name": "stdout",
     "output_type": "stream",
     "text": [
      "The length of maximum length consecutive subsequence is: 4\n"
     ]
    }
   ],
   "source": [
    "if __name__ == '__main__':\n",
    " \n",
    "    A = [2, 0, 6, 1, 5, 3, 7]\n",
    " \n",
    "    print(\"The length of maximum length consecutive subsequence is:\",\n",
    "          findMaxSub(A))"
   ]
  },
  {
   "cell_type": "markdown",
   "metadata": {},
   "source": [
    "# Exending the Solution to print the subsequence"
   ]
  },
  {
   "cell_type": "code",
   "execution_count": null,
   "metadata": {},
   "outputs": [],
   "source": []
  },
  {
   "cell_type": "code",
   "execution_count": 10,
   "metadata": {},
   "outputs": [
    {
     "name": "stdout",
     "output_type": "stream",
     "text": [
      "{0: 3, 5: 7}\n",
      "4\n",
      "1\n",
      "The length of maximum length consecutive subsequence is: 4\n"
     ]
    }
   ],
   "source": [
    "def printSubSequence(A):\n",
    "    s = set(A)\n",
    "    maxL = 1\n",
    "    d = {}\n",
    "    for e in A:\n",
    "        if (e-1) not in s:\n",
    "            l = 1\n",
    "            while (e+l) in s:\n",
    "                l +=1\n",
    "            maxL = max(maxL,l)\n",
    "            d[e] = e+l-1\n",
    "    print(d)\n",
    "    print(maxL)\n",
    "    \n",
    "    return maxL\n",
    "    \n",
    "if __name__ == '__main__':\n",
    " \n",
    "    A = [2, 0, 6, 1, 5, 3, 7]\n",
    " \n",
    "    print(\"The length of maximum length consecutive subsequence is:\",printSubSequence(A))\n",
    "        \n",
    "    "
   ]
  },
  {
   "cell_type": "code",
   "execution_count": 11,
   "metadata": {},
   "outputs": [
    {
     "name": "stdout",
     "output_type": "stream",
     "text": [
      "{2: None, 0: None, 6: None, 1: None, 5: None, 3: None, 7: None}\n"
     ]
    }
   ],
   "source": [
    "d = {}\n",
    "A  = [2, 0, 6, 1, 5, 3, 7]\n",
    "for e in A:\n",
    "    d[e] = None\n",
    "print(d)"
   ]
  },
  {
   "cell_type": "code",
   "execution_count": null,
   "metadata": {},
   "outputs": [],
   "source": []
  }
 ],
 "metadata": {
  "kernelspec": {
   "display_name": "Python 3",
   "language": "python",
   "name": "python3"
  },
  "language_info": {
   "codemirror_mode": {
    "name": "ipython",
    "version": 3
   },
   "file_extension": ".py",
   "mimetype": "text/x-python",
   "name": "python",
   "nbconvert_exporter": "python",
   "pygments_lexer": "ipython3",
   "version": "3.8.3"
  }
 },
 "nbformat": 4,
 "nbformat_minor": 4
}
