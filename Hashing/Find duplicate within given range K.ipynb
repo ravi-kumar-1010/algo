{
 "cells": [
  {
   "cell_type": "code",
   "execution_count": 5,
   "metadata": {},
   "outputs": [
    {
     "name": "stdout",
     "output_type": "stream",
     "text": [
      "Duplicates found\n"
     ]
    }
   ],
   "source": [
    "def hasDuplicate(A,k):\n",
    "    dict = {}\n",
    "    for i,e in enumerate(A):\n",
    "        if e in dict:\n",
    "            if (i-dict.get(e)) <= k:\n",
    "                return True\n",
    "        dict[e] = i\n",
    "    return False\n",
    "\n",
    "\n",
    "if __name__ == '__main__':\n",
    " \n",
    "    A = [5, 6, 8, 2, 4, 6, 9]\n",
    "    k = 4\n",
    " \n",
    "    if hasDuplicate(A, k):\n",
    "        print(\"Duplicates found\")\n",
    "    else:\n",
    "        print(\"No Duplicates found\")"
   ]
  },
  {
   "cell_type": "code",
   "execution_count": null,
   "metadata": {},
   "outputs": [],
   "source": []
  }
 ],
 "metadata": {
  "kernelspec": {
   "display_name": "Python 3",
   "language": "python",
   "name": "python3"
  },
  "language_info": {
   "codemirror_mode": {
    "name": "ipython",
    "version": 3
   },
   "file_extension": ".py",
   "mimetype": "text/x-python",
   "name": "python",
   "nbconvert_exporter": "python",
   "pygments_lexer": "ipython3",
   "version": "3.8.3"
  }
 },
 "nbformat": 4,
 "nbformat_minor": 4
}
