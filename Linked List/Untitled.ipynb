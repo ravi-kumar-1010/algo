{
 "cells": [
  {
   "cell_type": "code",
   "execution_count": 20,
   "metadata": {},
   "outputs": [
    {
     "name": "stdout",
     "output_type": "stream",
     "text": [
      "3\n",
      "Removing 3\n",
      "2\n",
      "Removing 2\n",
      "1\n"
     ]
    }
   ],
   "source": [
    "class Node:\n",
    "    def __init__(self,x,next = None):\n",
    "        self.x = x\n",
    "        self.next = None\n",
    "class Stack:\n",
    "    def __init__(self):\n",
    "        self.top = None\n",
    "    def push(self,x):\n",
    "        node = Node(x)\n",
    "        if node is None:\n",
    "            print(\"Stack Overflow\")\n",
    "            return -1\n",
    "        node.next = self.top\n",
    "        self.top = node\n",
    "    def isEmpty(self):\n",
    "        return self.top is None\n",
    "    def peek(self):\n",
    "        if self.isEmpty():\n",
    "            print(\"Stack Empty\")\n",
    "            return -1\n",
    "        print(self.top.x)\n",
    "    def pop(self):\n",
    "        if self.isEmpty():\n",
    "            print(\"Stack Empty\")\n",
    "        else :\n",
    "            print(\"Removing\",self.top.x)\n",
    "            self.top = self.top.next\n",
    "if __name__ == '__main__':\n",
    "    stack = Stack()\n",
    "    stack.push(1)\n",
    "    stack.push(2)\n",
    "    stack.push(3)\n",
    "    stack.peek()\n",
    "    stack.pop()\n",
    "    stack.peek()\n",
    "    stack.pop()\n",
    "    stack.peek()"
   ]
  },
  {
   "cell_type": "code",
   "execution_count": null,
   "metadata": {},
   "outputs": [],
   "source": [
    "class Node:\n",
    "    def __init__(self,x,next = None):\n",
    "        self.x = x\n",
    "        self.next = None\n",
    "class Queue:\n",
    "    def __init__(self):\n",
    "        self.top = None\n",
    "        self.end = None\n",
    "    def push(self,x):\n",
    "        node = Node(x)\n",
    "        if node is None:\n",
    "            print(\"Stack Overflow\")\n",
    "            return -1\n",
    "        if self.top == None:\n",
    "            self.top = node\n",
    "            self.end = node\n",
    "        else:\n",
    "            self.end.next = node\n",
    "            self.end = node\n",
    "        \n",
    "    def isEmpty(self):\n",
    "        return self.top is None\n",
    "    def peek(self):\n",
    "        if self.isEmpty():\n",
    "            print(\"Queue Empty\")\n",
    "            return -1\n",
    "        print(self.top.x)\n",
    "    def pop(self):\n",
    "        if self.isEmpty():\n",
    "            print(\"Stack Empty\")\n",
    "        else :\n",
    "            print(\"Removing\",self.top.x)\n",
    "            self.top = self.top.next\n",
    "if __name__ == '__main__':\n",
    "    stack = Stack()\n",
    "    stack.push(1)\n",
    "    stack.push(2)\n",
    "    stack.push(3)\n",
    "    stack.peek()\n",
    "    stack.pop()\n",
    "    stack.peek()\n",
    "    stack.pop()\n",
    "    stack.peek()"
   ]
  }
 ],
 "metadata": {
  "kernelspec": {
   "display_name": "Python 3",
   "language": "python",
   "name": "python3"
  },
  "language_info": {
   "codemirror_mode": {
    "name": "ipython",
    "version": 3
   },
   "file_extension": ".py",
   "mimetype": "text/x-python",
   "name": "python",
   "nbconvert_exporter": "python",
   "pygments_lexer": "ipython3",
   "version": "3.8.3"
  }
 },
 "nbformat": 4,
 "nbformat_minor": 4
}
