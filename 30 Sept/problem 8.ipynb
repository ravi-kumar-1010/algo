{
 "cells": [
  {
   "cell_type": "code",
   "execution_count": 7,
   "metadata": {},
   "outputs": [],
   "source": [
    "from collections import deque"
   ]
  },
  {
   "cell_type": "code",
   "execution_count": 8,
   "metadata": {},
   "outputs": [],
   "source": [
    "# Below lists details all 8 possible movements for a knight\n",
    "row = [2, 2, -2, -2, 1, 1, -1, -1]\n",
    "col = [-1, 1, 1, -1, 2, -2, 2, -2]\n"
   ]
  },
  {
   "cell_type": "code",
   "execution_count": 9,
   "metadata": {},
   "outputs": [],
   "source": [
    "\n",
    "# queue node used in BFS\n",
    "class Node:\n",
    "        # (x, y) represents chess board coordinates\n",
    "        # dist represent its minimum distance from the source\n",
    "        def __init__(self, x, y, dist=0):\n",
    "\n",
    "                self.x = x\n",
    "                self.y = y\n",
    "                self.dist = dist\n",
    "\n",
    "        # As we are using Node as a key in a dictionary,\n",
    "        # we need to implement hashCode() and equals()\n",
    "        \"\"\"def __hash__(self):\n",
    "\n",
    "                return hash((self.x, self.y, self.dist))\n",
    "\n",
    "        def __eq__(self, other):\n",
    "\n",
    "                return (self.x, self.y, self.dist) == (other.x, other.y, other.dist)\n",
    "\n",
    "        \"\"\""
   ]
  },
  {
   "cell_type": "code",
   "execution_count": 10,
   "metadata": {},
   "outputs": [],
   "source": [
    "# Check if (x, y) is valid chess board coordinates\n",
    "# Note that a knight cannot go out of the chessboard\n",
    "def valid(x, y, N):\n",
    "        return not (x < 0 or y < 0 or x >= N or y >= N)"
   ]
  },
  {
   "cell_type": "code",
   "execution_count": 11,
   "metadata": {},
   "outputs": [],
   "source": [
    "# Find minimum number of steps taken by the knight\n",
    "# from source to reach destination using BFS\n",
    "def BFS(src, dest, N):\n",
    "\n",
    "        # set to check if matrix cell is visited before or not\n",
    "        visited = set()\n",
    "\n",
    "        # create a queue and enqueue first node\n",
    "        q = deque()\n",
    "        q.append(src)\n",
    "\n",
    "        # loop till queue is empty\n",
    "        while q:\n",
    "\n",
    "                # pop front node from queue and process it\n",
    "                node = q.popleft()\n",
    "\n",
    "                x = node.x\n",
    "                y = node.y\n",
    "                dist = node.dist\n",
    "\n",
    "                # if destination is reached, return distance\n",
    "                if x == dest.x and y == dest.y:\n",
    "                        return dist\n",
    "\n",
    "                # Skip if location is visited before\n",
    "                if node not in visited:\n",
    "                        # mark current node as visited\n",
    "                        visited.add(node)\n",
    "\n",
    "                        # check for all 8 possible movements for a knight\n",
    "                        # and enqueue each valid movement into the queue\n",
    "                        for i in range(8):\n",
    "                                # Get the valid position of Knight from current position on\n",
    "                                # chessboard and enqueue it with +1 distance\n",
    "                                x1 = x + row[i]\n",
    "                                y1 = y + col[i]\n",
    "\n",
    "                                if valid(x1, y1, N):\n",
    "                                        q.append(Node(x1, y1, dist + 1))\n",
    "\n",
    "        # return INFINITY if path is not possible\n",
    "        return float('inf')\n"
   ]
  },
  {
   "cell_type": "code",
   "execution_count": 12,
   "metadata": {},
   "outputs": [
    {
     "name": "stdout",
     "output_type": "stream",
     "text": [
      "Minimum number of steps required is 6\n"
     ]
    }
   ],
   "source": [
    "if __name__ == '__main__':\n",
    "\n",
    "        N = 8\n",
    "\n",
    "        src = Node(0, 7)   # source coordinates\n",
    "        dest = Node(7, 0)  # destination coordinates\n",
    "\n",
    "        print(\"Minimum number of steps required is\", BFS(src, dest, N))\n"
   ]
  },
  {
   "cell_type": "code",
   "execution_count": null,
   "metadata": {},
   "outputs": [],
   "source": []
  },
  {
   "cell_type": "code",
   "execution_count": null,
   "metadata": {},
   "outputs": [],
   "source": []
  }
 ],
 "metadata": {
  "kernelspec": {
   "display_name": "Python 3",
   "language": "python",
   "name": "python3"
  },
  "language_info": {
   "codemirror_mode": {
    "name": "ipython",
    "version": 3
   },
   "file_extension": ".py",
   "mimetype": "text/x-python",
   "name": "python",
   "nbconvert_exporter": "python",
   "pygments_lexer": "ipython3",
   "version": "3.8.3"
  }
 },
 "nbformat": 4,
 "nbformat_minor": 4
}
