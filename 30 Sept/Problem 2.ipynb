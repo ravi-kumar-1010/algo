{
 "cells": [
  {
   "cell_type": "code",
   "execution_count": 14,
   "metadata": {},
   "outputs": [],
   "source": [
    "from collections import deque"
   ]
  },
  {
   "cell_type": "code",
   "execution_count": 15,
   "metadata": {},
   "outputs": [],
   "source": [
    "# check if specified row and column are valid matrix index\n",
    "def isValid(i, j):\n",
    "    return (0 <= i < M) and (0 <= j < N)"
   ]
  },
  {
   "cell_type": "code",
   "execution_count": 16,
   "metadata": {},
   "outputs": [],
   "source": [
    "# check if current cell is an open area and its\n",
    "# distance from mine is not yet calculated\n",
    "def isSafe(i, j, mat, result):\n",
    "    return mat[i][j] == 'O' and result[i][j] == -1"
   ]
  },
  {
   "cell_type": "code",
   "execution_count": 17,
   "metadata": {},
   "outputs": [],
   "source": [
    "# Replace all O's in the matrix with their shortest distance\n",
    "# from the nearest mine\n",
    "def updateDistance(mat, result):\n",
    "\n",
    "    # initialize an empty queue\n",
    "    q = deque()\n",
    "\n",
    "    # find all mines location and add them to the queue\n",
    "    for i in range(M):\n",
    "        for j in range(N):\n",
    "            # if current cell represents a mine\n",
    "            if mat[i][j] == 'M':\n",
    "                q.append((i, j, 0))\n",
    "\n",
    "                # update mine distance as 0\n",
    "                result[i][j] = 0\n",
    "\n",
    "            # else initialize mine distance by as -1\n",
    "            else:\n",
    "                result[i][j] = -1\n",
    "    \n",
    "    # lists to get indices of 4 adjacent cells of a given cell\n",
    "    R = [0, -1, 0, 1]\n",
    "    C = [-1, 0, 1, 0]\n",
    "    print(\"-----\")\n",
    "    for i in range(M):\n",
    "        print(result[i])\n",
    "    print(\"-----\")\n",
    "    # do for each in the queue\n",
    "    while q:\n",
    "\n",
    "        # dequeue the front cell\n",
    "        x, y, distance = q.popleft()\n",
    "\n",
    "        # update the 4 adjacent cells of the front node in the queue\n",
    "        for i in range(4):\n",
    "            # enqueue the adjacent cell if it is valid, unvisited,\n",
    "            # and has a path through it\n",
    "            if isValid(x + R[i], y + C[i]) and isSafe(x + R[i], y + C[i], mat, result):\n",
    "                result[x + R[i]][y + C[i]] = distance + 1\n",
    "                q.append((x + R[i], y + C[i], distance + 1))\n"
   ]
  },
  {
   "cell_type": "code",
   "execution_count": 18,
   "metadata": {},
   "outputs": [
    {
     "name": "stdout",
     "output_type": "stream",
     "text": [
      "-----\n",
      "[-1, 0, -1, -1, -1]\n",
      "[-1, -1, -1, -1, 0]\n",
      "[-1, -1, -1, -1, -1]\n",
      "[-1, -1, -1, -1, -1]\n",
      "[-1, -1, 0, -1, -1]\n",
      "[-1, -1, -1, 0, -1]\n",
      "-----\n",
      "[1, 0, 1, 2, -1]\n",
      "[2, -1, -1, 1, 0]\n",
      "[3, 4, 3, 2, 1]\n",
      "[3, -1, -1, -1, 2]\n",
      "[2, 1, 0, 1, 2]\n",
      "[3, -1, -1, 0, 1]\n"
     ]
    }
   ],
   "source": [
    "# Find shortest distance of every cell from land mine in a Maze\n",
    "if __name__ == '__main__':\n",
    "\n",
    "    mat = [\n",
    "        ['O', 'M', 'O', 'O', 'X'],\n",
    "        ['O', 'X', 'X', 'O', 'M'],\n",
    "        ['O', 'O', 'O', 'O', 'O'],\n",
    "        ['O', 'X', 'X', 'X', 'O'],\n",
    "        ['O', 'O', 'M', 'O', 'O'],\n",
    "        ['O', 'X', 'X', 'M', 'O']\n",
    "    ]\n",
    "\n",
    "    # M x N matrix\n",
    "    M = 6\n",
    "    N = 5\n",
    "\n",
    "    result = [[0 for x in range(N)] for y in range(M)]\n",
    "    updateDistance(mat, result)\n",
    "\n",
    "    # print results\n",
    "    for i in range(M):\n",
    "        print(result[i])"
   ]
  },
  {
   "cell_type": "code",
   "execution_count": null,
   "metadata": {},
   "outputs": [],
   "source": []
  },
  {
   "cell_type": "code",
   "execution_count": null,
   "metadata": {},
   "outputs": [],
   "source": []
  },
  {
   "cell_type": "code",
   "execution_count": null,
   "metadata": {},
   "outputs": [],
   "source": []
  }
 ],
 "metadata": {
  "kernelspec": {
   "display_name": "Python 3",
   "language": "python",
   "name": "python3"
  },
  "language_info": {
   "codemirror_mode": {
    "name": "ipython",
    "version": 3
   },
   "file_extension": ".py",
   "mimetype": "text/x-python",
   "name": "python",
   "nbconvert_exporter": "python",
   "pygments_lexer": "ipython3",
   "version": "3.8.3"
  }
 },
 "nbformat": 4,
 "nbformat_minor": 4
}
