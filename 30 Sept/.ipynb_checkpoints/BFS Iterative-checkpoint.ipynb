{
 "cells": [
  {
   "cell_type": "code",
   "execution_count": 1,
   "metadata": {},
   "outputs": [],
   "source": [
    "from collections import deque"
   ]
  },
  {
   "cell_type": "code",
   "execution_count": 2,
   "metadata": {},
   "outputs": [],
   "source": [
    "class Graph:\n",
    "    def __init__(self,edges,N):\n",
    "        self.adjList = [[] for _ in range(N)]\n",
    "        for (src,dest) in edges:\n",
    "            self.adjList[src].append(dest)\n",
    "            self.adjList[dest].append(src)\n",
    "            "
   ]
  },
  {
   "cell_type": "code",
   "execution_count": 7,
   "metadata": {},
   "outputs": [],
   "source": [
    "def BFS(graph,v,discovered):\n",
    "    q = deque()\n",
    "    \n",
    "    q.append(v)\n",
    "    while q:\n",
    "        v = q.popleft()\n",
    "        discovered[v] = True\n",
    "        print(v,end = \" \")\n",
    "        for u in graph.adjList[v]:\n",
    "            if not discovered[u]:\n",
    "                discovered[u] = True\n",
    "                q.append(u)"
   ]
  },
  {
   "cell_type": "code",
   "execution_count": 8,
   "metadata": {},
   "outputs": [
    {
     "name": "stdout",
     "output_type": "stream",
     "text": [
      "0 1 2 3 4 5 6 7 8 9 10 11 12 13 14 "
     ]
    }
   ],
   "source": [
    "if __name__ == '__main__':\n",
    "    edges = [(1,2),(1,3),(1,4),(2,5),(2,6),(5,9),(5,10),(4,7),(4,8),(7,11),(7,12)]\n",
    "    N = 15\n",
    "    graph = Graph(edges,N)\n",
    "    discovered = [False]*N\n",
    "    for i in range(N):\n",
    "        if not discovered[i]:\n",
    "            BFS(graph,i,discovered)\n",
    "    \n",
    "    "
   ]
  },
  {
   "cell_type": "code",
   "execution_count": null,
   "metadata": {},
   "outputs": [],
   "source": []
  },
  {
   "cell_type": "code",
   "execution_count": null,
   "metadata": {},
   "outputs": [],
   "source": []
  }
 ],
 "metadata": {
  "kernelspec": {
   "display_name": "Python 3",
   "language": "python",
   "name": "python3"
  },
  "language_info": {
   "codemirror_mode": {
    "name": "ipython",
    "version": 3
   },
   "file_extension": ".py",
   "mimetype": "text/x-python",
   "name": "python",
   "nbconvert_exporter": "python",
   "pygments_lexer": "ipython3",
   "version": "3.8.3"
  }
 },
 "nbformat": 4,
 "nbformat_minor": 4
}
