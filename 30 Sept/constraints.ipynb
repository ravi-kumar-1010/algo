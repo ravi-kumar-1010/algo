{
 "cells": [
  {
   "cell_type": "code",
   "execution_count": 16,
   "metadata": {},
   "outputs": [],
   "source": [
    "from collections import deque\n"
   ]
  },
  {
   "cell_type": "code",
   "execution_count": 49,
   "metadata": {},
   "outputs": [],
   "source": [
    "class Node:\n",
    "    def __init__(self,x,y,parent):\n",
    "        self.x = x\n",
    "        self.y = y\n",
    "        self.parent = parent\n",
    "    def __repr__(self):\n",
    "        return str((self.x, self.y))\n",
    "        "
   ]
  },
  {
   "cell_type": "code",
   "execution_count": 50,
   "metadata": {},
   "outputs": [],
   "source": [
    "r = [-1,1,0,0]\n",
    "c = [0,0,1,-1]"
   ]
  },
  {
   "cell_type": "code",
   "execution_count": 51,
   "metadata": {},
   "outputs": [],
   "source": [
    "def isValid(i,j):\n",
    "    return (0<=i<N) and (0<=j<N)"
   ]
  },
  {
   "cell_type": "code",
   "execution_count": 52,
   "metadata": {},
   "outputs": [],
   "source": [
    "\n",
    "def findPath(matrix, x, y):\n",
    "    # create a queue and enqueue first node\n",
    "    q = deque()\n",
    "    src = Node(x, y, None)\n",
    "    q.append(src)\n",
    "\n",
    "    # set to check if matrix cell is visited before or not\n",
    "    visited = set()\n",
    "\n",
    "    key = (src.x, src.y)\n",
    "    print(src.x == x)\n",
    "    visited.add(key)\n",
    "    while q:\n",
    "        curr = q.popleft()\n",
    "        i = curr.x\n",
    "        j = curr.y\n",
    "        if i == N-1 and j == N-1:\n",
    "            return curr\n",
    "        n = matrix[i][j]\n",
    "        for k in range(4):\n",
    "            x = i + r[k]*n\n",
    "            y = j + c[k]*n\n",
    "            if isValid(x, y):\n",
    "                # construct next cell node\n",
    "                next = Node(x, y, curr)\n",
    "                key = (next.x, next.y)\n",
    "\n",
    "                # if it not visited yet\n",
    "                if key not in visited:\n",
    "                    # push it into the queue and mark it as visited\n",
    "                    q.append(next)\n",
    "                    visited.add(key)\n",
    "    return None\n",
    "        \n",
    "        \n",
    "        "
   ]
  },
  {
   "cell_type": "code",
   "execution_count": 53,
   "metadata": {},
   "outputs": [],
   "source": [
    "def printPath(node):\n",
    "    if node is None:\n",
    "        return 0\n",
    "    length = printPath(node.parent)\n",
    "    print(node,end=\" \")\n",
    "    return length+1"
   ]
  },
  {
   "cell_type": "code",
   "execution_count": 54,
   "metadata": {},
   "outputs": [
    {
     "name": "stdout",
     "output_type": "stream",
     "text": [
      "True\n",
      "Shortest path is: (0, 0) (0, 4) (5, 4) (5, 6) (6, 6) (6, 9) (9, 9) \n",
      "Shortest path length is 6\n"
     ]
    }
   ],
   "source": [
    "if __name__ == '__main__':\n",
    "\n",
    "\tmatrix = [\n",
    "\t\t[4, 4, 6, 5, 5, 1, 1, 1, 7, 4],\n",
    "\t\t[3, 6, 2, 4, 6, 5, 7, 2, 6, 6],\n",
    "\t\t[1, 3, 6, 1, 1, 1, 7, 1, 4, 5],\n",
    "\t\t[7, 5, 6, 3, 1, 3, 3, 1, 1, 7],\n",
    "\t\t[3, 4, 6, 4, 7, 2, 6, 5, 4, 4],\n",
    "\t\t[3, 2, 5, 1, 2, 5, 1, 2, 3, 4],\n",
    "\t\t[4, 2, 2, 2, 5, 2, 3, 7, 7, 3],\n",
    "\t\t[7, 2, 4, 3, 5, 2, 2, 3, 6, 3],\n",
    "\t\t[5, 1, 4, 2, 6, 4, 6, 7, 3, 7],\n",
    "\t\t[1, 4, 1, 7, 5, 3, 6, 5, 3, 4]\n",
    "\t]\n",
    "\n",
    "\tN = len(matrix)\n",
    "\n",
    "\t# Find a route in the matrix from source cell (0, 0) to\n",
    "\t# destination cell (N - 1, N - 1)\n",
    "\tnode = findPath(matrix, 0, 0)\n",
    "\n",
    "\tif node:\n",
    "\t\tprint(\"Shortest path is: \", end='')\n",
    "\t\tlength = printPath(node) - 1\n",
    "\t\tprint(\"\\nShortest path length is\", length)\n",
    "\telse:\n",
    "\t\tprint(\"Destination not found\")"
   ]
  },
  {
   "cell_type": "code",
   "execution_count": null,
   "metadata": {},
   "outputs": [],
   "source": []
  },
  {
   "cell_type": "code",
   "execution_count": null,
   "metadata": {},
   "outputs": [],
   "source": []
  }
 ],
 "metadata": {
  "kernelspec": {
   "display_name": "Python 3",
   "language": "python",
   "name": "python3"
  },
  "language_info": {
   "codemirror_mode": {
    "name": "ipython",
    "version": 3
   },
   "file_extension": ".py",
   "mimetype": "text/x-python",
   "name": "python",
   "nbconvert_exporter": "python",
   "pygments_lexer": "ipython3",
   "version": "3.8.3"
  }
 },
 "nbformat": 4,
 "nbformat_minor": 4
}
