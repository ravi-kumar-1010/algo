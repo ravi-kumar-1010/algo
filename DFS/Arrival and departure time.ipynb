{
 "cells": [
  {
   "cell_type": "code",
   "execution_count": 186,
   "metadata": {},
   "outputs": [],
   "source": [
    "class Graph:\n",
    "    def __init__(self,edges,N):\n",
    "        self.adjList = [[] for _ in range(N)]\n",
    "        for (src,dest) in edges:\n",
    "            self.adjList[src].append(dest)"
   ]
  },
  {
   "cell_type": "code",
   "execution_count": 201,
   "metadata": {},
   "outputs": [],
   "source": [
    "def AnnotatedDFS(u,clock):\n",
    "    start[u] = clock    \n",
    "    clock = clock + 1\n",
    "    visited[u] = True\n",
    "    for v in graph.adjList[u]:\n",
    "        if not visited[v]:\n",
    "            clock = AnnotatedDFS(v,clock)\n",
    "    end[u] = clock\n",
    "    clock = clock + 1\n",
    "    return clock\n",
    "    "
   ]
  },
  {
   "cell_type": "code",
   "execution_count": 205,
   "metadata": {},
   "outputs": [
    {
     "name": "stdout",
     "output_type": "stream",
     "text": [
      "-------\n",
      "Vertex 0 (0, 23)\n",
      "Vertex 1 (1, 12)\n",
      "Vertex 2 (13, 22)\n",
      "Vertex 3 (2, 3)\n",
      "Vertex 4 (4, 11)\n",
      "Vertex 5 (14, 15)\n",
      "Vertex 6 (16, 21)\n",
      "Vertex 7 (5, 6)\n",
      "Vertex 8 (7, 8)\n",
      "Vertex 9 (9, 10)\n",
      "Vertex 10 (17, 18)\n",
      "Vertex 11 (19, 20)\n"
     ]
    }
   ],
   "source": [
    "if __name__ == '__main__':\n",
    "    edges = [\n",
    "        (0,1),(0,2),(1,3),(1,4),(2,5),(2,6),(4,7),(4,8),(4,9),(4,0),(6,10),(6,11),(2,11),(10,7)\n",
    "    ]\n",
    "    N = 12\n",
    "    parent = [-1]*N\n",
    "    start = [-1]*N\n",
    "    end = [-1]*N\n",
    "    clock = 0\n",
    "    visited = [False]*N\n",
    "    graph = Graph(edges,N)\n",
    "    for i in range(N):\n",
    "        if not visited[i]:\n",
    "            clock = AnnotatedDFS(i,clock)\n",
    "            print(\"-------\")\n",
    "    for i in range(N):\n",
    "        print(\"Vertex\", i, (start[i], end[i]))\n",
    "    "
   ]
  },
  {
   "cell_type": "code",
   "execution_count": 3,
   "metadata": {},
   "outputs": [
    {
     "name": "stdout",
     "output_type": "stream",
     "text": [
      "Vertex 0 (0, 3)\n",
      "Vertex 1 (4, 9)\n",
      "Vertex 2 (5, 6)\n",
      "Vertex 3 (10, 11)\n",
      "Vertex 4 (7, 8)\n",
      "Vertex 5 (12, 13)\n",
      "Vertex 6 (1, 2)\n",
      "Vertex 7 (14, 15)\n",
      "16\n"
     ]
    }
   ],
   "source": [
    "# Class to represent a graph object\n",
    "class Graph:\n",
    "    def __init__(self, edges, N):\n",
    "\n",
    "        # A List of Lists to represent an adjacency list\n",
    "        self.adjList = [[] for _ in range(N)]\n",
    "\n",
    "        # add edges to the undirected graph\n",
    "        for (src, dest) in edges:\n",
    "            self.adjList[src].append(dest)\n",
    "\n",
    "\n",
    "# Function to perform DFS Traversal\n",
    "\n",
    "\n",
    "def DFS(graph, v, discovered, arrival, departure, time):\n",
    "    arrival[v] = time\n",
    "    time = time + 1\n",
    "    discovered[v] = True\n",
    "    for i in graph.adjList[v]:\n",
    "        if not discovered[i]:\n",
    "            time = DFS(graph, i, discovered, arrival, departure, time)\n",
    "    departure[v] = time\n",
    "    time = time + 1\n",
    "    return time\n",
    "if __name__ == '__main__':\n",
    "\n",
    "    # List of graph edges as per above diagram\n",
    "    edges = [(0, 1), (0, 2), (2, 3), (2, 4), (3, 1), (3, 5), (4, 5),(4,6), (6, 7),(7,0)]\n",
    "    edges2 = [(0,1),(0,2),(1,3),(1,4),(2,5),(2,6),(4,7),(4,8),(4,9),(4,0),(6,10),(6,11),(2,11),(10,7)]\n",
    "    \n",
    "    edges3 = [(0,6),(1,2),(1,4),(1,6),(3,0),(3,4),(5,1),(7,0),(7,1),(7,3),(7,5)]\n",
    "    # Set number of vertices in the graph\n",
    "    N = 8\n",
    "\n",
    "    # create a graph from edges\n",
    "    graph = Graph(edges3, N)\n",
    "\n",
    "    # list to store arrival time of vertex\n",
    "    arrival = [None] * N\n",
    "\n",
    "    # list to store departure time of vertex\n",
    "    departure = [None] * N\n",
    "\n",
    "    # Mark all the vertices as not discovered\n",
    "    discovered = [False] * N\n",
    "    time = 0\n",
    "\n",
    "    # Do DFS traversal from all undiscovered nodes to\n",
    "    # cover all unconnected components of graph\n",
    "    for i in range(N):\n",
    "        if not discovered[i]:\n",
    "            time = DFS(graph, i, discovered, arrival, departure, time)\n",
    "    # print arrival and departure time of each vertex in DFS\n",
    "    for i in range(N):\n",
    "        print(\"Vertex\", i, (arrival[i], departure[i]))\n",
    "    print(time)    "
   ]
  },
  {
   "cell_type": "code",
   "execution_count": null,
   "metadata": {},
   "outputs": [],
   "source": []
  },
  {
   "cell_type": "code",
   "execution_count": null,
   "metadata": {},
   "outputs": [],
   "source": []
  }
 ],
 "metadata": {
  "kernelspec": {
   "display_name": "Python 3",
   "language": "python",
   "name": "python3"
  },
  "language_info": {
   "codemirror_mode": {
    "name": "ipython",
    "version": 3
   },
   "file_extension": ".py",
   "mimetype": "text/x-python",
   "name": "python",
   "nbconvert_exporter": "python",
   "pygments_lexer": "ipython3",
   "version": "3.8.3"
  }
 },
 "nbformat": 4,
 "nbformat_minor": 4
}
