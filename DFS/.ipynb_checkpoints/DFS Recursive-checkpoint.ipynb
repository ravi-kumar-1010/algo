{
 "cells": [
  {
   "cell_type": "code",
   "execution_count": 9,
   "metadata": {},
   "outputs": [
    {
     "name": "stdout",
     "output_type": "stream",
     "text": [
      "0 1 2 3 4 5 6 7 8 9 10 11 12 "
     ]
    }
   ],
   "source": [
    "from collections import deque\n",
    "\n",
    "\n",
    "# Class to represent a graph object\n",
    "class Graph:\n",
    "    # Constructor\n",
    "    def __init__(self, edges, N):\n",
    "\n",
    "        # A List of Lists to represent an adjacency list\n",
    "        self.adjList = [[] for _ in range(N)]\n",
    "\n",
    "        # add edges to the undirected graph\n",
    "        for (src, dest) in edges:\n",
    "            self.adjList[src].append(dest)\n",
    "            self.adjList[dest].append(src)\n",
    "\n",
    "\n",
    "# Perform iterative DFS on graph g starting from vertex v\n",
    "def DFS(graph, v, discovered):\n",
    "\n",
    "\n",
    "\n",
    "        # Pop a vertex from stack\n",
    "        \n",
    "\n",
    "        # if the vertex is already discovered yet, ignore it\n",
    "        if discovered[v]:\n",
    "            return\n",
    "\n",
    "        # we will reach here if the popped vertex v\n",
    "        # is not discovered yet. We print it and process\n",
    "        # its undiscovered adjacent nodes into stack\n",
    "        \n",
    "        discovered[v] = True\n",
    "        print(v, end=' ')\n",
    "\n",
    "        # do for every edge (v -> u)\n",
    "        \n",
    "        for u in graph.adjList[v]:\n",
    "            if not discovered[u]:\n",
    "                DFS(graph,u,discovered)\n",
    "\n",
    "\n",
    "# Iterative Python implementation of Depth first search\n",
    "if __name__ == '__main__':\n",
    "\n",
    "    # List of graph edges as per above diagram\n",
    "    edges = [\n",
    "        # Notice that node 0 is unconnected node\n",
    "        (1, 2), (1, 7), (1, 8), (2, 3), (2, 6), (3, 4),\n",
    "        (3, 5), (8, 9), (8, 12), (9, 10), (9, 11)\n",
    "        # , (6, 9) # introduce cycle\n",
    "    ]\n",
    "\n",
    "    # Set number of vertices in the graph (0-12)\n",
    "    N = 13\n",
    "\n",
    "    # create a graph from edges\n",
    "    graph = Graph(edges, N)\n",
    "\n",
    "    # stores vertex is discovered or not\n",
    "    discovered = [False] * N\n",
    "\n",
    "    # Do iterative DFS traversal from all undiscovered nodes to\n",
    "    # cover all unconnected components of graph\n",
    "    for i in range(N):\n",
    "        if not discovered[i]:\n",
    "            DFS(graph, i, discovered)\n"
   ]
  },
  {
   "cell_type": "code",
   "execution_count": null,
   "metadata": {},
   "outputs": [],
   "source": []
  }
 ],
 "metadata": {
  "kernelspec": {
   "display_name": "Python 3",
   "language": "python",
   "name": "python3"
  },
  "language_info": {
   "codemirror_mode": {
    "name": "ipython",
    "version": 3
   },
   "file_extension": ".py",
   "mimetype": "text/x-python",
   "name": "python",
   "nbconvert_exporter": "python",
   "pygments_lexer": "ipython3",
   "version": "3.8.3"
  }
 },
 "nbformat": 4,
 "nbformat_minor": 4
}
